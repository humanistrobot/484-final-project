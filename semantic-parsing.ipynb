{
 "cells": [
  {
   "cell_type": "markdown",
   "metadata": {
    "id": "Nxdv3xTDwP51"
   },
   "source": [
    "**LING 484: Final Project**\n",
    "\n",
    "Duygu Demiray & Elifnur Ulusoy (Group 5)\n",
    "\n",
    "Raincheck: a weather app which tells you what to wear/pack"
   ]
  },
  {
   "cell_type": "markdown",
   "metadata": {},
   "source": [
    "Important note: this does NOT work in Google Colab because we have to take input from a mic. Please run it on your preferred environment. We used Jupyter Notebooks. "
   ]
  },
  {
   "cell_type": "markdown",
   "metadata": {
    "id": "KJB5zLoBae-P"
   },
   "source": [
    "Step 1: Listen to user commands (I know voice commands are not \n",
    "necessary, but I still wanted to give it a try)\n",
    "[source](https://sweetcode.io/how-build-digital-virtual-assistant-python/)"
   ]
  },
  {
   "cell_type": "code",
   "execution_count": 5,
   "metadata": {
    "colab": {
     "base_uri": "https://localhost:8080/"
    },
    "id": "vLHDlfLwaePK",
    "outputId": "c1f414a0-42c6-43a2-b216-77d61c2b2190"
   },
   "outputs": [
    {
     "name": "stdout",
     "output_type": "stream",
     "text": [
      "Requirement already satisfied: gtts in c:\\users\\duygu\\miniconda3\\lib\\site-packages (2.2.2)\n",
      "Requirement already satisfied: requests in c:\\users\\duygu\\miniconda3\\lib\\site-packages (from gtts) (2.25.1)\n",
      "Requirement already satisfied: six in c:\\users\\duygu\\miniconda3\\lib\\site-packages (from gtts) (1.15.0)\n",
      "Requirement already satisfied: click in c:\\users\\duygu\\miniconda3\\lib\\site-packages (from gtts) (8.0.1)\n",
      "Requirement already satisfied: colorama in c:\\users\\duygu\\miniconda3\\lib\\site-packages (from click->gtts) (0.4.4)\n",
      "Requirement already satisfied: certifi>=2017.4.17 in c:\\users\\duygu\\miniconda3\\lib\\site-packages (from requests->gtts) (2021.5.30)\n",
      "Requirement already satisfied: chardet<5,>=3.0.2 in c:\\users\\duygu\\miniconda3\\lib\\site-packages (from requests->gtts) (3.0.4)\n",
      "Requirement already satisfied: idna<3,>=2.5 in c:\\users\\duygu\\miniconda3\\lib\\site-packages (from requests->gtts) (2.10)\n",
      "Requirement already satisfied: urllib3<1.27,>=1.21.1 in c:\\users\\duygu\\miniconda3\\lib\\site-packages (from requests->gtts) (1.25.11)\n"
     ]
    }
   ],
   "source": [
    "import speech_recognition as sr \n",
    "import pyaudio\n",
    "from time import ctime\n",
    "import time\n",
    "import os\n",
    "! pip install gtts\n",
    "from gtts import gTTS\n",
    "import requests, json"
   ]
  },
  {
   "cell_type": "code",
   "execution_count": 6,
   "metadata": {
    "id": "-0HhWOI7bkxE"
   },
   "outputs": [],
   "source": [
    "def listen():\n",
    "    \"\"\"Takes voice input from the user\"\"\"\n",
    "    r = sr.Recognizer()\n",
    "    with sr.Microphone() as source:\n",
    "        print(\"I am listening...\")\n",
    "        audio = r.listen(source)\n",
    "    data = \"\"\n",
    "    try:\n",
    "        data = r.recognize_google(audio)\n",
    "        print(\"You said: \" + data)\n",
    "    except sr.UnknownValueError:\n",
    "        print(\"I don't understand. Could you repeat that?\")\n",
    "    except sr.RequestError as e:\n",
    "        print(\"Sorry, I don't understand.; {0}\".format(e))\n",
    "    return data"
   ]
  },
  {
   "cell_type": "code",
   "execution_count": 25,
   "metadata": {},
   "outputs": [
    {
     "name": "stdout",
     "output_type": "stream",
     "text": [
      "Requirement already satisfied: flair in c:\\users\\duygu\\miniconda3\\lib\\site-packages (0.8.0.post1)\n",
      "Requirement already satisfied: gensim<=3.8.3,>=3.4.0 in c:\\users\\duygu\\miniconda3\\lib\\site-packages (from flair) (3.8.3)\n",
      "Requirement already satisfied: gdown==3.12.2 in c:\\users\\duygu\\miniconda3\\lib\\site-packages (from flair) (3.12.2)\n",
      "Requirement already satisfied: scikit-learn>=0.21.3 in c:\\users\\duygu\\miniconda3\\lib\\site-packages (from flair) (0.24.2)\n",
      "Requirement already satisfied: hyperopt>=0.1.1 in c:\\users\\duygu\\miniconda3\\lib\\site-packages (from flair) (0.2.5)\n",
      "Requirement already satisfied: konoha<5.0.0,>=4.0.0 in c:\\users\\duygu\\miniconda3\\lib\\site-packages (from flair) (4.6.5)\n",
      "Requirement already satisfied: python-dateutil>=2.6.1 in c:\\users\\duygu\\miniconda3\\lib\\site-packages (from flair) (2.8.1)\n",
      "Requirement already satisfied: lxml in c:\\users\\duygu\\miniconda3\\lib\\site-packages (from flair) (4.6.3)\n",
      "Requirement already satisfied: janome in c:\\users\\duygu\\miniconda3\\lib\\site-packages (from flair) (0.4.1)\n",
      "Requirement already satisfied: numpy<1.20.0 in c:\\users\\duygu\\miniconda3\\lib\\site-packages (from flair) (1.19.5)\n",
      "Requirement already satisfied: bpemb>=0.3.2 in c:\\users\\duygu\\miniconda3\\lib\\site-packages (from flair) (0.3.3)\n",
      "Requirement already satisfied: sqlitedict>=1.6.0 in c:\\users\\duygu\\miniconda3\\lib\\site-packages (from flair) (1.7.0)\n",
      "Requirement already satisfied: tabulate in c:\\users\\duygu\\miniconda3\\lib\\site-packages (from flair) (0.8.9)\n",
      "Requirement already satisfied: regex in c:\\users\\duygu\\miniconda3\\lib\\site-packages (from flair) (2021.4.4)\n",
      "Requirement already satisfied: segtok>=1.5.7 in c:\\users\\duygu\\miniconda3\\lib\\site-packages (from flair) (1.5.10)\n",
      "Requirement already satisfied: sentencepiece==0.1.95 in c:\\users\\duygu\\miniconda3\\lib\\site-packages (from flair) (0.1.95)\n",
      "Requirement already satisfied: torch<=1.7.1,>=1.5.0 in c:\\users\\duygu\\miniconda3\\lib\\site-packages (from flair) (1.7.1)\n",
      "Requirement already satisfied: transformers>=4.0.0 in c:\\users\\duygu\\miniconda3\\lib\\site-packages (from flair) (4.6.1)\n",
      "Requirement already satisfied: mpld3==0.3 in c:\\users\\duygu\\miniconda3\\lib\\site-packages (from flair) (0.3)\n",
      "Requirement already satisfied: matplotlib>=2.2.3 in c:\\users\\duygu\\miniconda3\\lib\\site-packages (from flair) (3.4.2)\n",
      "Requirement already satisfied: deprecated>=1.2.4 in c:\\users\\duygu\\miniconda3\\lib\\site-packages (from flair) (1.2.12)\n",
      "Requirement already satisfied: huggingface-hub in c:\\users\\duygu\\miniconda3\\lib\\site-packages (from flair) (0.0.8)\n",
      "Requirement already satisfied: langdetect in c:\\users\\duygu\\miniconda3\\lib\\site-packages (from flair) (1.0.9)\n",
      "Requirement already satisfied: ftfy in c:\\users\\duygu\\miniconda3\\lib\\site-packages (from flair) (6.0.3)\n",
      "Requirement already satisfied: tqdm>=4.26.0 in c:\\users\\duygu\\miniconda3\\lib\\site-packages (from flair) (4.54.1)\n",
      "Requirement already satisfied: requests[socks] in c:\\users\\duygu\\miniconda3\\lib\\site-packages (from gdown==3.12.2->flair) (2.25.1)\n",
      "Requirement already satisfied: six in c:\\users\\duygu\\miniconda3\\lib\\site-packages (from gdown==3.12.2->flair) (1.15.0)\n",
      "Requirement already satisfied: filelock in c:\\users\\duygu\\miniconda3\\lib\\site-packages (from gdown==3.12.2->flair) (3.0.12)\n",
      "Requirement already satisfied: wrapt<2,>=1.10 in c:\\users\\duygu\\miniconda3\\lib\\site-packages (from deprecated>=1.2.4->flair) (1.12.1)\n",
      "Requirement already satisfied: smart-open>=1.8.1 in c:\\users\\duygu\\miniconda3\\lib\\site-packages (from gensim<=3.8.3,>=3.4.0->flair) (5.1.0)\n",
      "Requirement already satisfied: scipy>=0.18.1 in c:\\users\\duygu\\miniconda3\\lib\\site-packages (from gensim<=3.8.3,>=3.4.0->flair) (1.6.3)\n",
      "Requirement already satisfied: networkx>=2.2 in c:\\users\\duygu\\miniconda3\\lib\\site-packages (from hyperopt>=0.1.1->flair) (2.5.1)\n",
      "Requirement already satisfied: future in c:\\users\\duygu\\miniconda3\\lib\\site-packages (from hyperopt>=0.1.1->flair) (0.18.2)\n",
      "Requirement already satisfied: cloudpickle in c:\\users\\duygu\\miniconda3\\lib\\site-packages (from hyperopt>=0.1.1->flair) (1.6.0)\n",
      "Requirement already satisfied: overrides<4.0.0,>=3.0.0 in c:\\users\\duygu\\miniconda3\\lib\\site-packages (from konoha<5.0.0,>=4.0.0->flair) (3.1.0)\n",
      "Requirement already satisfied: importlib-metadata<4.0.0,>=3.7.0 in c:\\users\\duygu\\miniconda3\\lib\\site-packages (from konoha<5.0.0,>=4.0.0->flair) (3.10.0)\n",
      "Requirement already satisfied: zipp>=0.5 in c:\\users\\duygu\\miniconda3\\lib\\site-packages (from importlib-metadata<4.0.0,>=3.7.0->konoha<5.0.0,>=4.0.0->flair) (3.4.1)\n",
      "Requirement already satisfied: pyparsing>=2.2.1 in c:\\users\\duygu\\miniconda3\\lib\\site-packages (from matplotlib>=2.2.3->flair) (2.4.7)\n",
      "Requirement already satisfied: pillow>=6.2.0 in c:\\users\\duygu\\miniconda3\\lib\\site-packages (from matplotlib>=2.2.3->flair) (8.2.0)\n",
      "Requirement already satisfied: kiwisolver>=1.0.1 in c:\\users\\duygu\\miniconda3\\lib\\site-packages (from matplotlib>=2.2.3->flair) (1.3.1)\n",
      "Requirement already satisfied: cycler>=0.10 in c:\\users\\duygu\\miniconda3\\lib\\site-packages (from matplotlib>=2.2.3->flair) (0.10.0)\n",
      "Requirement already satisfied: decorator<5,>=4.3 in c:\\users\\duygu\\miniconda3\\lib\\site-packages (from networkx>=2.2->hyperopt>=0.1.1->flair) (4.4.2)\n",
      "Requirement already satisfied: chardet<5,>=3.0.2 in c:\\users\\duygu\\miniconda3\\lib\\site-packages (from requests[socks]->gdown==3.12.2->flair) (3.0.4)\n",
      "Requirement already satisfied: urllib3<1.27,>=1.21.1 in c:\\users\\duygu\\miniconda3\\lib\\site-packages (from requests[socks]->gdown==3.12.2->flair) (1.25.11)\n",
      "Requirement already satisfied: certifi>=2017.4.17 in c:\\users\\duygu\\miniconda3\\lib\\site-packages (from requests[socks]->gdown==3.12.2->flair) (2021.5.30)\n",
      "Requirement already satisfied: idna<3,>=2.5 in c:\\users\\duygu\\miniconda3\\lib\\site-packages (from requests[socks]->gdown==3.12.2->flair) (2.10)\n",
      "Requirement already satisfied: threadpoolctl>=2.0.0 in c:\\users\\duygu\\miniconda3\\lib\\site-packages (from scikit-learn>=0.21.3->flair) (2.1.0)\n",
      "Requirement already satisfied: joblib>=0.11 in c:\\users\\duygu\\miniconda3\\lib\\site-packages (from scikit-learn>=0.21.3->flair) (1.0.1)\n",
      "Requirement already satisfied: typing-extensions in c:\\users\\duygu\\miniconda3\\lib\\site-packages (from torch<=1.7.1,>=1.5.0->flair) (3.10.0.0)\n",
      "Requirement already satisfied: tokenizers<0.11,>=0.10.1 in c:\\users\\duygu\\miniconda3\\lib\\site-packages (from transformers>=4.0.0->flair) (0.10.3)\n",
      "Requirement already satisfied: packaging in c:\\users\\duygu\\miniconda3\\lib\\site-packages (from transformers>=4.0.0->flair) (20.9)\n",
      "Requirement already satisfied: sacremoses in c:\\users\\duygu\\miniconda3\\lib\\site-packages (from transformers>=4.0.0->flair) (0.0.45)\n",
      "Requirement already satisfied: wcwidth in c:\\users\\duygu\\miniconda3\\lib\\site-packages (from ftfy->flair) (0.2.5)\n",
      "Requirement already satisfied: PySocks!=1.5.7,>=1.5.6 in c:\\users\\duygu\\miniconda3\\lib\\site-packages (from requests[socks]->gdown==3.12.2->flair) (1.7.1)\n",
      "Requirement already satisfied: click in c:\\users\\duygu\\miniconda3\\lib\\site-packages (from sacremoses->transformers>=4.0.0->flair) (8.0.1)\n",
      "Requirement already satisfied: colorama in c:\\users\\duygu\\miniconda3\\lib\\site-packages (from click->sacremoses->transformers>=4.0.0->flair) (0.4.4)\n"
     ]
    }
   ],
   "source": [
    "!pip install flair\n",
    "from flair.data import Sentence\n",
    "from flair.models import SequenceTagger\n",
    "\n",
    "def Tagger(data):\n",
    "    \"\"\"Performs entity recognition using the package Flair\"\"\"\n",
    "    sentence = Sentence(data)\n",
    "    tagger = SequenceTagger.load('ner-ontonotes-fast')\n",
    "    tagger.predict(sentence)\n",
    "    return sentence.get_spans()"
   ]
  },
  {
   "cell_type": "markdown",
   "metadata": {},
   "source": [
    "A problem with the function below is that it will definitely overgenerate. The sequence tagger used inside Tagger() can tag 18 classes, whereas we are only interested in the following classes:\n",
    "\n",
    "* DATE: date value\n",
    "* GPE: geo-political entity \n",
    "* LOC: location name\n",
    "* TIME: time value\n",
    "\n",
    "Actually, we only need TIME at this point. We can try to get location-based weather input and then we can use GPE & LOC too. We will need to pull some tricks to use DATE too but I don't really think that is necessary. \n",
    "\n",
    "We can modify Tagger() such that it only returns sentences w/ time & location information and throws some sort of error message otherwise. "
   ]
  },
  {
   "cell_type": "code",
   "execution_count": 1,
   "metadata": {},
   "outputs": [
    {
     "ename": "NameError",
     "evalue": "name 'time' is not defined",
     "output_type": "error",
     "traceback": [
      "\u001b[1;31m---------------------------------------------------------------------------\u001b[0m",
      "\u001b[1;31mNameError\u001b[0m                                 Traceback (most recent call last)",
      "\u001b[1;32m<ipython-input-1-c1e804d8bfa7>\u001b[0m in \u001b[0;36m<module>\u001b[1;34m\u001b[0m\n\u001b[0;32m      8\u001b[0m     \u001b[1;32mreturn\u001b[0m \u001b[0mlistening\u001b[0m\u001b[1;33m\u001b[0m\u001b[1;33m\u001b[0m\u001b[0m\n\u001b[0;32m      9\u001b[0m \u001b[1;33m\u001b[0m\u001b[0m\n\u001b[1;32m---> 10\u001b[1;33m \u001b[0mNoName\u001b[0m\u001b[1;33m(\u001b[0m\u001b[1;33m)\u001b[0m\u001b[1;33m\u001b[0m\u001b[1;33m\u001b[0m\u001b[0m\n\u001b[0m",
      "\u001b[1;32m<ipython-input-1-c1e804d8bfa7>\u001b[0m in \u001b[0;36mNoName\u001b[1;34m()\u001b[0m\n\u001b[0;32m      1\u001b[0m \u001b[1;32mdef\u001b[0m \u001b[0mNoName\u001b[0m\u001b[1;33m(\u001b[0m\u001b[1;33m)\u001b[0m\u001b[1;33m:\u001b[0m\u001b[1;33m\u001b[0m\u001b[1;33m\u001b[0m\u001b[0m\n\u001b[0;32m      2\u001b[0m     \u001b[1;34m\"\"\"Takes voice input and returns time & location information\"\"\"\u001b[0m\u001b[1;33m\u001b[0m\u001b[1;33m\u001b[0m\u001b[0m\n\u001b[1;32m----> 3\u001b[1;33m     \u001b[0mtime\u001b[0m\u001b[1;33m.\u001b[0m\u001b[0msleep\u001b[0m\u001b[1;33m(\u001b[0m\u001b[1;36m2\u001b[0m\u001b[1;33m)\u001b[0m\u001b[1;33m\u001b[0m\u001b[1;33m\u001b[0m\u001b[0m\n\u001b[0m\u001b[0;32m      4\u001b[0m     \u001b[0mlistening\u001b[0m \u001b[1;33m=\u001b[0m \u001b[1;32mTrue\u001b[0m\u001b[1;33m\u001b[0m\u001b[1;33m\u001b[0m\u001b[0m\n\u001b[0;32m      5\u001b[0m     \u001b[1;32mwhile\u001b[0m \u001b[0mlistening\u001b[0m \u001b[1;33m==\u001b[0m \u001b[1;32mTrue\u001b[0m\u001b[1;33m:\u001b[0m\u001b[1;33m\u001b[0m\u001b[1;33m\u001b[0m\u001b[0m\n",
      "\u001b[1;31mNameError\u001b[0m: name 'time' is not defined"
     ]
    }
   ],
   "source": [
    "def NoName():\n",
    "    \"\"\"Takes voice input and returns time & location information\"\"\"\n",
    "    time.sleep(2)\n",
    "    listening = True\n",
    "    while listening == True:\n",
    "        data = listen()\n",
    "        listening = Tagger(data)\n",
    "    return listening\n",
    "\n",
    "NoName()"
   ]
  },
  {
   "cell_type": "code",
   "execution_count": 18,
   "metadata": {},
   "outputs": [],
   "source": [
    "def GenerateOutput():\n",
    "    parse = NoName()\n",
    "     \n",
    "#if we write this properly we are finished. run all cells above this and nothing below for now.     "
   ]
  },
  {
   "cell_type": "code",
   "execution_count": 8,
   "metadata": {
    "id": "wfeNVKdCcmtj"
   },
   "outputs": [],
   "source": [
    "\n",
    "def digital_assistant(data):\n",
    "  \n",
    "    if \"how are you\" in data:\n",
    "        listening = True\n",
    "        respond(\"Very well, thank you!\")\n",
    "\n",
    "    if \"what time is it\" in data:\n",
    "        listening = True\n",
    "        respond(ctime())\n",
    "\n",
    "    if \"who are you\" in data:\n",
    "        listening = True\n",
    "        respond(\"I am Raincheck, at your service.\")\n",
    "        \n",
    "    if \"stop listening\" in data:\n",
    "        listening = False\n",
    "        print('Listening stopped')\n",
    "        return listening\n",
    "    #return listening"
   ]
  },
  {
   "cell_type": "markdown",
   "metadata": {},
   "source": [
    "If we could put the digital_assistant inside a loop until we hear 'stop listening' that would be great. I am going to try that with a new cell below because I don't want to accidently ruin everything.\n",
    "What we need to do, more importantly, is to use the dictionary we obtained in Step 2 inside the digital_assistant. As soon as we get an input asking about weather, we'll need to refer to the dictionary to check out the weather and respond accordingly. "
   ]
  },
  {
   "cell_type": "markdown",
   "metadata": {},
   "source": [
    "{'cur_weather': 70,\n",
    " 'morning': 74,\n",
    " 'afternoon': 80,\n",
    " 'evening': 71,\n",
    " 'overnight': 63,\n",
    " 'tomorrow': 80,\n",
    " 'tomorrow_night': 62,\n",
    " 'day_after': 79,\n",
    " 'day_after_n': 63,\n",
    " 'after_after': 70,\n",
    " 'after_after_n': 59,\n",
    " 'idk': 68,\n",
    " 'idk_n': 60}"
   ]
  },
  {
   "cell_type": "code",
   "execution_count": null,
   "metadata": {},
   "outputs": [],
   "source": [
    "#this is pseudocode. \n",
    "\n",
    "if \"what should i wear today\" in data:\n",
    "    listening = True\n",
    "    if in dictionary(cur_weather<25): #i don't know the syntax for this\n",
    "        respond('go grab a jacket') \n",
    "    elif...\n",
    "if \"what's the weather like this afternoon\" in data:\n",
    "    listening = True\n",
    "    if in dictionary(afternoon>20):\n",
    "        respond ('wear a tshirt')\n",
    "    elif...\n"
   ]
  },
  {
   "cell_type": "code",
   "execution_count": 5,
   "metadata": {
    "colab": {
     "base_uri": "https://localhost:8080/"
    },
    "id": "nL8bRcBEAozq",
    "outputId": "1ef515ab-b398-48bd-c72c-7121340fa787",
    "scrolled": true
   },
   "outputs": [
    {
     "data": {
      "text/plain": [
       "['Microsoft Sound Mapper - Input',\n",
       " 'Microphone (Realtek High Defini',\n",
       " 'Microsoft Sound Mapper - Output',\n",
       " 'Speakers (Realtek High Definiti',\n",
       " 'Primary Sound Capture Driver',\n",
       " 'Microphone (Realtek High Definition Audio)',\n",
       " 'Primary Sound Driver',\n",
       " 'Speakers (Realtek High Definition Audio)',\n",
       " 'Speakers (Realtek High Definition Audio)',\n",
       " 'Microphone (Realtek High Definition Audio)',\n",
       " 'Stereo Mix (Realtek HD Audio Stereo input)',\n",
       " 'Microphone (Realtek HD Audio Mic input)',\n",
       " 'Speakers (Realtek HD Audio output)']"
      ]
     },
     "execution_count": 5,
     "metadata": {},
     "output_type": "execute_result"
    }
   ],
   "source": [
    "#this confirms whether your system detects the mic. it should NOT return an empty list. \n",
    "\n",
    "sr.Microphone.list_microphone_names() "
   ]
  },
  {
   "cell_type": "code",
   "execution_count": 10,
   "metadata": {
    "colab": {
     "base_uri": "https://localhost:8080/",
     "height": 339
    },
    "id": "kTYwGsaNd00K",
    "outputId": "7aa571cd-7bdb-4518-c9ab-5cedc109a5c8"
   },
   "outputs": [
    {
     "name": "stdout",
     "output_type": "stream",
     "text": [
      "Hello, what can I do for you?\n",
      "I am listening...\n",
      "You said: who are you\n",
      "I am Raincheck, at your service.\n"
     ]
    }
   ],
   "source": [
    "time.sleep(2)\n",
    "respond(\"Hello, what can I do for you?\")\n",
    "listening = True\n",
    "while listening == True:\n",
    "    data = listen()\n",
    "    listening = digital_assistant(data)"
   ]
  },
  {
   "cell_type": "markdown",
   "metadata": {
    "id": "aYd-oqzRmnbD"
   },
   "source": [
    "some questions:\n",
    "*   do we need multiple locations? should we let the user choose their location? (if so, find out how)\n",
    "\n",
    "This will be difficult because the URL we are reading specifically fetches the weather for istanbul. I do not know how to go into the website AND change the location based on the users location. I think it might be a bit too much work, and we might need to read the website differently. We can get around to it if we have time. - D.\n",
    "\n",
    "*   can we choose between F/C?"
   ]
  },
  {
   "cell_type": "markdown",
   "metadata": {
    "id": "-Uver5Blh0Wy"
   },
   "source": [
    "Step 2: Read into the Weather Channel website and get Today's Forecast and Daily Forecast. "
   ]
  },
  {
   "cell_type": "code",
   "execution_count": 25,
   "metadata": {
    "colab": {
     "base_uri": "https://localhost:8080/",
     "height": 674
    },
    "id": "BN8SWNtQnIGB",
    "outputId": "361b7379-0ab3-4915-9040-b8d73dc45994"
   },
   "outputs": [
    {
     "name": "stderr",
     "output_type": "stream",
     "text": [
      "<ipython-input-25-62a120dc3f7a>:10: DeprecationWarning: AppURLopener style of invoking requests is deprecated. Use newer urlopen functions/methods\n",
      "  opener = AppURLopener()\n"
     ]
    },
    {
     "name": "stdout",
     "output_type": "stream",
     "text": [
      "['22°', '17°', '23°', '26°', '22°', '18°', '22°', '17°', '15°', '22°', '22°', '21°', '20°', '19°', '17°', '27°', '17°', '26°', '17°', '21°', '15°', '20°', '16°']\n"
     ]
    }
   ],
   "source": [
    "#elif's version of duygu's code -- to find out whether we can switch btwn F/C\n",
    "#the code below only prints in C but doesn't really matter since it only shows weather for Istanbul\n",
    "\n",
    "import re \n",
    "import urllib.request \n",
    "\n",
    "class AppURLopener(urllib.request.FancyURLopener): \n",
    "    version = \"Mozilla/5.0\"\n",
    "\n",
    "opener = AppURLopener()\n",
    "response = opener.open('https://weather.com/tr-TR/weather/today/l/33d1e415eb66f3e1ab35c3add45fccf4512715d329edbd91c806a6957e123b49')\n",
    "file_1 = response.read().decode('utf-8') \n",
    "\n",
    "pattern_1 = re.compile(\"([0-9]+°)\") \n",
    "\n",
    "matches_1 = re.findall(pattern_1, file_1) \n",
    "\n",
    "print(matches) #returns in celsius\n",
    "\n"
   ]
  },
  {
   "cell_type": "code",
   "execution_count": null,
   "metadata": {},
   "outputs": [],
   "source": [
    "#code for switching between C/F\n",
    "# celsius * 1.8 = fahrenheit - 32\n",
    "\n",
    "#C to F\n",
    "celsius = float(input(\"Enter temperature in celsius: \"))\n",
    "fahrenheit = (celsius * 9/5) + 32\n",
    "print('%.2f Celsius is: %0.2f Fahrenheit' %(celsius, fahrenheit))\n",
    "\n",
    "#F to C\n",
    "fahrenheit = float(input(\"Enter temperature in fahrenheit: \"))\n",
    "celsius = (fahrenheit - 32) * 5/9\n",
    "print('%.2f Fahrenheit is: %0.2f Celsius' %(fahrenheit, celsius))"
   ]
  },
  {
   "cell_type": "code",
   "execution_count": 89,
   "metadata": {
    "colab": {
     "base_uri": "https://localhost:8080/"
    },
    "id": "RMYHUXjhhtWV",
    "outputId": "20b3c1da-0bd4-42c5-bad7-bd8cbf56ae76"
   },
   "outputs": [
    {
     "name": "stderr",
     "output_type": "stream",
     "text": [
      "<ipython-input-89-5258cac921ad>:7: DeprecationWarning: AppURLopener style of invoking requests is deprecated. Use newer urlopen functions/methods\n",
      "  opener = AppURLopener()\n"
     ]
    },
    {
     "name": "stdout",
     "output_type": "stream",
     "text": [
      "['70', '62', '74', '80', '71', '63', '70', '62', '59', '70', '69', '68', '67', '65', '62', '80', '62', '79', '63', '70', '59', '68', '60']\n"
     ]
    }
   ],
   "source": [
    "import re \n",
    "import urllib.request \n",
    "\n",
    "class AppURLopener(urllib.request.FancyURLopener): \n",
    "    version = \"Mozilla/5.0\"\n",
    "\n",
    "opener = AppURLopener()\n",
    "response = opener.open('https://weather.com/weather/today/l/33d1e415eb66f3e1ab35c3add45fccf4512715d329edbd91c806a6957e123b49')\n",
    "file_2 = response.read().decode('utf-8') \n",
    "\n",
    "pattern_2 = re.compile(\"([0-9]+)°\") \n",
    "\n",
    "matches_2 = re.findall(pattern_2, file_2) \n",
    "\n",
    "print(matches_2) #returns in F.\n",
    "\n",
    " #this needs to be a function and you need to return the matches??\n",
    "\n"
   ]
  },
  {
   "cell_type": "markdown",
   "metadata": {
    "id": "WG0kFotEoWtq"
   },
   "source": [
    "matches is a list of numbers, and maybe indexing them will be easier than writing separate RegEx's. we can create a dictionary and then use that dictionary in the 3rd step.\n",
    "\n",
    "this is a very dumb way and we're not doing much work w/ regex but it works, so i think we'll be fine. \n",
    "\n",
    "beware: I have tweaked with CleanList because of the website. if it does not work for you in the dictionary function below make while a<2 and while b<=10. "
   ]
  },
  {
   "cell_type": "code",
   "execution_count": 90,
   "metadata": {
    "colab": {
     "base_uri": "https://localhost:8080/"
    },
    "id": "z42mLNaNrC2p",
    "outputId": "38f83163-7824-45e4-97f3-2f4f96f2bf53"
   },
   "outputs": [
    {
     "data": {
      "text/plain": [
       "['70', '74', '80', '71', '63', '80', '62', '79', '63', '70', '59', '68', '60']"
      ]
     },
     "execution_count": 90,
     "metadata": {},
     "output_type": "execute_result"
    }
   ],
   "source": [
    "def CleanList(matches):\n",
    "  \"\"\"Returns the relevant numbers from the scraped data\"\"\" \n",
    "\n",
    "  a=0\n",
    "  while a<1:\n",
    "    matches.pop(1)\n",
    "    a+=1\n",
    "\n",
    "  b=0\n",
    "  while b<=8:\n",
    "    matches.pop(5)\n",
    "    b+=1 \n",
    "  \n",
    "  return matches\n",
    "\n",
    "CleanList(matches_2)"
   ]
  },
  {
   "cell_type": "code",
   "execution_count": 93,
   "metadata": {},
   "outputs": [
    {
     "data": {
      "text/plain": [
       "[70, 74, 80, 71, 63, 80, 62, 79, 63, 70, 59, 68, 60]"
      ]
     },
     "execution_count": 93,
     "metadata": {},
     "output_type": "execute_result"
    }
   ],
   "source": [
    "#we are turning them to int's. for some reason this did not work when I put it inside CleanList\n",
    "\n",
    "integer_map = map(int, matches_2) \n",
    "matches_int = list(integer_map)\n",
    "\n",
    "matches_int"
   ]
  },
  {
   "cell_type": "markdown",
   "metadata": {
    "id": "o4skweZEyEhf"
   },
   "source": [
    "open the weather channel and look side-by-side.\n",
    "\n",
    "[0-4] -> 0. current weather / 1. morning / 2. afternoon / 3. evening / 4. overnight \n",
    "\n",
    "[5-12] -> skip down to daily forecast in the website, which gives us the weather for the next four days. I kept the values for both day & night, but of course we can purge it further. \n",
    "\n",
    "now we need to match these with the list indeces. "
   ]
  },
  {
   "cell_type": "code",
   "execution_count": 94,
   "metadata": {
    "colab": {
     "base_uri": "https://localhost:8080/"
    },
    "id": "VQR--euNtNDT",
    "outputId": "0f03f651-1fc7-429e-eb81-ae6042bd2062"
   },
   "outputs": [],
   "source": [
    "#maybe we should get rid of everything that comes after day_after_n. \n",
    "\n",
    "labels = [\"cur_weather\", \"morning\", \"afternoon\", \"evening\", \"overnight\", \"tomorrow\", \"tomorrow_night\", \"day_after\", \"day_after_n\", \"after_after\", \"after_after_n\", \"idk\", \"idk_n\"]\n",
    "\n",
    "def CreateDictionary(matches, labels):\n",
    "  \"\"\"Creating a dictionary from the numbers obtained from the weather channel and times of the day\"\"\"\n",
    "\n",
    "  weather = {}\n",
    "\n",
    "  for k in range(len(labels)):\n",
    "    weather[labels[k]] = matches[k]\n",
    "  \n",
    "  return weather\n",
    "\n",
    "dictionary = CreateDictionary(matches_int, labels) #this may not work from time to time.  "
   ]
  },
  {
   "cell_type": "markdown",
   "metadata": {
    "id": "C9gSny9uxAAP"
   },
   "source": [
    "Some problems with this: we are taking everything but we will possibly only use a limited part of it when we get input from the user, as they will ask what to wear for a specific time of the day/week. It would be better to have separate RegEx's that read the relevant parts of the website based on user input, but I couldn't think of/find a way to do that. "
   ]
  },
  {
   "cell_type": "code",
   "execution_count": 95,
   "metadata": {},
   "outputs": [
    {
     "data": {
      "text/plain": [
       "{'cur_weather': 70,\n",
       " 'morning': 74,\n",
       " 'afternoon': 80,\n",
       " 'evening': 71,\n",
       " 'overnight': 63,\n",
       " 'tomorrow': 80,\n",
       " 'tomorrow_night': 62,\n",
       " 'day_after': 79,\n",
       " 'day_after_n': 63,\n",
       " 'after_after': 70,\n",
       " 'after_after_n': 59,\n",
       " 'idk': 68,\n",
       " 'idk_n': 60}"
      ]
     },
     "execution_count": 95,
     "metadata": {},
     "output_type": "execute_result"
    }
   ],
   "source": [
    "dictionary"
   ]
  }
 ],
 "metadata": {
  "colab": {
   "collapsed_sections": [],
   "name": "484_project_code.ipynb",
   "provenance": []
  },
  "kernelspec": {
   "display_name": "Python 3",
   "language": "python",
   "name": "python3"
  },
  "language_info": {
   "codemirror_mode": {
    "name": "ipython",
    "version": 3
   },
   "file_extension": ".py",
   "mimetype": "text/x-python",
   "name": "python",
   "nbconvert_exporter": "python",
   "pygments_lexer": "ipython3",
   "version": "3.9.1"
  }
 },
 "nbformat": 4,
 "nbformat_minor": 1
}
