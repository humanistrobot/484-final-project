{
  "nbformat": 4,
  "nbformat_minor": 0,
  "metadata": {
    "colab": {
      "name": "final_raincheck.ipynb",
      "provenance": []
    },
    "kernelspec": {
      "name": "python3",
      "display_name": "Python 3"
    },
    "language_info": {
      "name": "python"
    }
  },
  "cells": [
    {
      "cell_type": "code",
      "metadata": {
        "id": "tX-AtUm_MWx5",
        "colab": {
          "base_uri": "https://localhost:8080/"
        },
        "outputId": "067904dc-5b9b-4321-d45e-a70573a37b3a"
      },
      "source": [
        "! pip install chatterbot\n",
        "! pip install chatterbot_corpus"
      ],
      "execution_count": 114,
      "outputs": [
        {
          "output_type": "stream",
          "text": [
            "Requirement already satisfied: chatterbot in /usr/local/lib/python3.7/dist-packages (1.0.8)\n",
            "Requirement already satisfied: python-dateutil<2.9,>=2.8 in /usr/local/lib/python3.7/dist-packages (from chatterbot) (2.8.1)\n",
            "Requirement already satisfied: sqlalchemy<1.4,>=1.3 in /usr/local/lib/python3.7/dist-packages (from chatterbot) (1.3.24)\n",
            "Requirement already satisfied: mathparse<0.2,>=0.1 in /usr/local/lib/python3.7/dist-packages (from chatterbot) (0.1.2)\n",
            "Requirement already satisfied: pytz in /usr/local/lib/python3.7/dist-packages (from chatterbot) (2018.9)\n",
            "Requirement already satisfied: six>=1.5 in /usr/local/lib/python3.7/dist-packages (from python-dateutil<2.9,>=2.8->chatterbot) (1.15.0)\n",
            "Requirement already satisfied: chatterbot_corpus in /usr/local/lib/python3.7/dist-packages (1.2.0)\n",
            "Requirement already satisfied: PyYAML<4.0,>=3.12 in /usr/local/lib/python3.7/dist-packages (from chatterbot_corpus) (3.13)\n"
          ],
          "name": "stdout"
        }
      ]
    },
    {
      "cell_type": "code",
      "metadata": {
        "id": "h5PR6vhLMhoL"
      },
      "source": [
        "from chatterbot import ChatBot\n",
        "from chatterbot.trainers import ListTrainer"
      ],
      "execution_count": 115,
      "outputs": []
    },
    {
      "cell_type": "code",
      "metadata": {
        "id": "MEhlD-d3Mo5U"
      },
      "source": [
        "my_bot = ChatBot(name = 'Raincheck', read_only = True,\n",
        "                 logic_adapters = \n",
        "  ['chatterbot.logic.MathematicalEvaluation',\n",
        "   'chatterbot.logic.BestMatch'])"
      ],
      "execution_count": 116,
      "outputs": []
    },
    {
      "cell_type": "code",
      "metadata": {
        "id": "WjQsFgdlM-wD"
      },
      "source": [
        "small_talk = ['Hello! I am Raincheck.',\n",
        "              'Where would you like to go today?',\n",
        "              'Maybe you should take a jacket. Might rain.',\n",
        "              'I am Raincheck.']"
      ],
      "execution_count": 117,
      "outputs": []
    },
    {
      "cell_type": "code",
      "metadata": {
        "id": "OAEEdUVZNWC9",
        "colab": {
          "base_uri": "https://localhost:8080/"
        },
        "outputId": "cdbd7a70-e381-4633-8601-3ae131e9d241"
      },
      "source": [
        "list_trainer = ListTrainer(my_bot)\n",
        "\n",
        "for item in (small_talk):\n",
        "  list_trainer.train(item)"
      ],
      "execution_count": 118,
      "outputs": [
        {
          "output_type": "stream",
          "text": [
            "List Trainer: [####################] 100%\n",
            "List Trainer: [####################] 100%\n",
            "List Trainer: [####################] 100%\n",
            "List Trainer: [####################] 100%\n"
          ],
          "name": "stdout"
        }
      ]
    },
    {
      "cell_type": "code",
      "metadata": {
        "id": "y4JkU1yyNgij",
        "colab": {
          "base_uri": "https://localhost:8080/"
        },
        "outputId": "1fcf24ac-2c20-4fd1-883e-2ceecdc7cb97"
      },
      "source": [
        "print(my_bot.get_response(\"hello\"))"
      ],
      "execution_count": 119,
      "outputs": [
        {
          "output_type": "stream",
          "text": [
            "Hi\n"
          ],
          "name": "stdout"
        }
      ]
    },
    {
      "cell_type": "code",
      "metadata": {
        "id": "fxOFq8I6OUKF",
        "colab": {
          "base_uri": "https://localhost:8080/"
        },
        "outputId": "4c5e42f8-9cd8-4216-d203-6e7b4dbfa8f2"
      },
      "source": [
        "print(my_bot.get_response(\"who are you?\"))"
      ],
      "execution_count": 120,
      "outputs": [
        {
          "output_type": "stream",
          "text": [
            "I am just an artificial intelligence.\n"
          ],
          "name": "stdout"
        }
      ]
    },
    {
      "cell_type": "code",
      "metadata": {
        "id": "0oJTJdYXObVw",
        "colab": {
          "base_uri": "https://localhost:8080/"
        },
        "outputId": "466f5f9c-63c0-48c9-9dcc-6fb58ec7146b"
      },
      "source": [
        "print(my_bot.get_response(\"what is your purpose?\"))"
      ],
      "execution_count": 121,
      "outputs": [
        {
          "output_type": "stream",
          "text": [
            "To keep you warm and dry.\n"
          ],
          "name": "stdout"
        }
      ]
    },
    {
      "cell_type": "code",
      "metadata": {
        "id": "qFYoLVkZ4d6n",
        "colab": {
          "base_uri": "https://localhost:8080/"
        },
        "outputId": "dab86ff2-9b0f-4292-ecb4-39a2e6476c08"
      },
      "source": [
        "print(my_bot.get_response(\"how are you\"))"
      ],
      "execution_count": 122,
      "outputs": [
        {
          "output_type": "stream",
          "text": [
            "I am on the Internet.\n"
          ],
          "name": "stdout"
        }
      ]
    },
    {
      "cell_type": "code",
      "metadata": {
        "colab": {
          "base_uri": "https://localhost:8080/"
        },
        "id": "OhlhgOy1PHjr",
        "outputId": "03dc2776-c41d-41dc-b5e4-eb952186a1af"
      },
      "source": [
        "print(\"Raincheck: Hello, what should I call you?\")\n",
        "user_name = input()"
      ],
      "execution_count": 123,
      "outputs": [
        {
          "output_type": "stream",
          "text": [
            "Raincheck: Hello, what should I call you?\n",
            "Elif\n"
          ],
          "name": "stdout"
        }
      ]
    },
    {
      "cell_type": "code",
      "metadata": {
        "id": "-okCVaHZQfuE"
      },
      "source": [
        "bot_template = \"Raincheck: {0}\"\n",
        "user_template = user_name + \" : {0}\""
      ],
      "execution_count": 124,
      "outputs": []
    },
    {
      "cell_type": "code",
      "metadata": {
        "colab": {
          "base_uri": "https://localhost:8080/"
        },
        "id": "QC65iYl8Rwah",
        "outputId": "da44c05b-76f5-4b60-c4b5-90f1faeab930"
      },
      "source": [
        "import re \n",
        "import urllib.request \n",
        "\n",
        "class AppURLopener(urllib.request.FancyURLopener): \n",
        "    version = \"Mozilla/5.0\"\n",
        "\n",
        "opener = AppURLopener()\n",
        "response = opener.open('https://weather.com/tr-TR/weather/today/l/33d1e415eb66f3e1ab35c3add45fccf4512715d329edbd91c806a6957e123b49')\n",
        "file_1 = response.read().decode('utf-8') \n",
        "\n",
        "pattern_1 = re.compile(\"([0-9]+°)\") \n",
        "\n",
        "matches_1 = re.findall(pattern_1, file_1) \n",
        "\n",
        "matches_1\n",
        "\n"
      ],
      "execution_count": 192,
      "outputs": [
        {
          "output_type": "stream",
          "text": [
            "/usr/local/lib/python3.7/dist-packages/ipykernel_launcher.py:7: DeprecationWarning: AppURLopener style of invoking requests is deprecated. Use newer urlopen functions/methods\n",
            "  import sys\n"
          ],
          "name": "stderr"
        },
        {
          "output_type": "execute_result",
          "data": {
            "text/plain": [
              "['29°',\n",
              " '20°',\n",
              " '27°',\n",
              " '31°',\n",
              " '25°',\n",
              " '21°',\n",
              " '30°',\n",
              " '20°',\n",
              " '17°',\n",
              " '29°',\n",
              " '28°',\n",
              " '26°',\n",
              " '25°',\n",
              " '24°',\n",
              " '20°',\n",
              " '33°',\n",
              " '23°',\n",
              " '29°',\n",
              " '22°',\n",
              " '27°',\n",
              " '21°',\n",
              " '28°',\n",
              " '21°']"
            ]
          },
          "metadata": {
            "tags": []
          },
          "execution_count": 192
        }
      ]
    },
    {
      "cell_type": "code",
      "metadata": {
        "id": "1CC6f3lNypQp"
      },
      "source": [
        "import statistics\n",
        "\n",
        "median_weather = statistics.median(matches_1)"
      ],
      "execution_count": 196,
      "outputs": []
    },
    {
      "cell_type": "code",
      "metadata": {
        "id": "UGjH2POVQYZW"
      },
      "source": [
        "name = \"Raincheck\"\n",
        "weather = median_weather\n",
        "\n",
        "responses = {\n",
        "    \"What's your name?\": [\n",
        "    \"They call me {0}\". format(name),\n",
        "    \"I go by {0}\". format(name),\n",
        "    \"My name is {0}\". format(name) ],\n",
        "\n",
        "    \"What is the weather like today?\": [\n",
        "    \"The weather is {0}\".format(weather), \n",
        "    \"It's {0} today\".format(weather), \n",
        "    \"Let me check, it looks {0} today\".format(weather) ],\n",
        "\n",
        "    \"default\": [\n",
        "    \"this is a default message\"]\n",
        "    \n",
        "}"
      ],
      "execution_count": 200,
      "outputs": []
    },
    {
      "cell_type": "code",
      "metadata": {
        "colab": {
          "base_uri": "https://localhost:8080/"
        },
        "id": "dWSr5Ie81OgU",
        "outputId": "faf7f041-d246-4903-8856-8f88503ab831"
      },
      "source": [
        "trainer.train([\n",
        "    \"What is the weather like today?\",\n",
        "    \"Today, the weather is {0}\".format(median_weather),\n",
        "])"
      ],
      "execution_count": 202,
      "outputs": [
        {
          "output_type": "stream",
          "text": [
            "List Trainer: [####################] 100%\n"
          ],
          "name": "stdout"
        }
      ]
    },
    {
      "cell_type": "code",
      "metadata": {
        "colab": {
          "base_uri": "https://localhost:8080/"
        },
        "id": "eul298RXysoR",
        "outputId": "26ba6276-d74e-43cf-bcc5-b9502d04a283"
      },
      "source": [
        "list_trainer = ListTrainer(my_bot)\n",
        "\n",
        "for item in (responses):\n",
        "  list_trainer.train(item)"
      ],
      "execution_count": 198,
      "outputs": [
        {
          "output_type": "stream",
          "text": [
            "List Trainer: [####################] 100%\n",
            "List Trainer: [####################] 100%\n",
            "List Trainer: [####################] 100%\n"
          ],
          "name": "stdout"
        }
      ]
    },
    {
      "cell_type": "code",
      "metadata": {
        "colab": {
          "base_uri": "https://localhost:8080/"
        },
        "id": "oUozk28OzX5P",
        "outputId": "e6e9e015-569d-4cc7-ffe9-63349a33cf51"
      },
      "source": [
        "print(my_bot.get_response(\"What is your name?\"))"
      ],
      "execution_count": 175,
      "outputs": [
        {
          "output_type": "stream",
          "text": [
            "I am Raincheck, your weather assistant.\n"
          ],
          "name": "stdout"
        }
      ]
    },
    {
      "cell_type": "code",
      "metadata": {
        "colab": {
          "base_uri": "https://localhost:8080/"
        },
        "id": "09bi59Y6zeF4",
        "outputId": "c56a9149-b183-43fb-e091-6d92eb65c18b"
      },
      "source": [
        "print(my_bot.get_response(\"What is the weather like today?\"))"
      ],
      "execution_count": 203,
      "outputs": [
        {
          "output_type": "stream",
          "text": [
            "Today, the weather is 25°\n"
          ],
          "name": "stdout"
        }
      ]
    },
    {
      "cell_type": "code",
      "metadata": {
        "colab": {
          "base_uri": "https://localhost:8080/",
          "height": 134
        },
        "id": "BzaAaFpSX3_H",
        "outputId": "dc39abc6-c9b5-4492-b42d-17b86e9e40b0"
      },
      "source": [
        "from chatterbot.trainers import ListTrainer\n",
        "\n",
        "trainer = ListTrainer(my_bot)\n",
        "\n",
        "trainer.train([\n",
        "    \"Hi!\",\n",
        "    \"Hello. How can I help?\",\n",
        "])\n",
        "\n",
        "trainer.train([\n",
        "    \"Greetings!\",\n",
        "    \"Hello. How can I help?\",\n",
        "])\n",
        "\n",
        "trainer.train([\n",
        "    \"What is your name?\",\n",
        "    \"I am Raincheck, your weather assistant.\",\n",
        "])\n",
        "\n",
        "trainer.train([\n",
        "    \"What is your purpose?\",\n",
        "    \"To keep you warm and dry.\",\n",
        "])\n",
        "\n",
        "#this is psuedocode\n",
        "trainer.train([\n",
        "if median_weather < 25:\n",
        "  print(\"I would suggest a jacket. It's chilly out.\")\n",
        "elif median weather = 25:\n",
        "  print(\"Definitely some shoes. JK.\")\n",
        "else median weather > 25:\n",
        "  print(\"Cheerleading outfit. JK. No grey clouds today. Wear something light.\"),\n",
        "])\n"
      ],
      "execution_count": 210,
      "outputs": [
        {
          "output_type": "error",
          "ename": "SyntaxError",
          "evalue": "ignored",
          "traceback": [
            "\u001b[0;36m  File \u001b[0;32m\"<ipython-input-210-5e69ecb185fc>\"\u001b[0;36m, line \u001b[0;32m31\u001b[0m\n\u001b[0;31m    if median_weather < 25:\u001b[0m\n\u001b[0m     ^\u001b[0m\n\u001b[0;31mSyntaxError\u001b[0m\u001b[0;31m:\u001b[0m invalid syntax\n"
          ]
        }
      ]
    },
    {
      "cell_type": "code",
      "metadata": {
        "colab": {
          "base_uri": "https://localhost:8080/"
        },
        "id": "UiRVPXfTYwjw",
        "outputId": "445becc6-e34c-4f9a-adef-edd98c3c5327"
      },
      "source": [
        "print(my_bot.get_response(\"What is your name?\"))"
      ],
      "execution_count": 109,
      "outputs": [
        {
          "output_type": "stream",
          "text": [
            "I am Raincheck, your weather assistant.\n"
          ],
          "name": "stdout"
        }
      ]
    },
    {
      "cell_type": "code",
      "metadata": {
        "colab": {
          "base_uri": "https://localhost:8080/"
        },
        "id": "ggfXT5ZJZOk_",
        "outputId": "7fc1af52-fe8b-48c7-8e34-ce5c9dfc1e20"
      },
      "source": [
        "print(my_bot.get_response(\"What should I wear today?\"))"
      ],
      "execution_count": 110,
      "outputs": [
        {
          "output_type": "stream",
          "text": [
            "Just a t-shirt and jeans.\n"
          ],
          "name": "stdout"
        }
      ]
    }
  ]
}