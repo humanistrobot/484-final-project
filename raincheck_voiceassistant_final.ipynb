{
 "cells": [
  {
   "cell_type": "markdown",
   "metadata": {
    "id": "Nxdv3xTDwP51"
   },
   "source": [
    "**LING 484: Final Project**\n",
    "\n",
    "Duygu Demiray & Elifnur Ulusoy (Group 5)\n",
    "\n",
    "Raincheck: a weather app which tells you what to wear/pack"
   ]
  },
  {
   "cell_type": "markdown",
   "metadata": {},
   "source": [
    "Important note: this does NOT work in Google Colab because we have to take input from a mic. Please run it on your preferred environment. We used Jupyter Notebooks. "
   ]
  },
  {
   "cell_type": "markdown",
   "metadata": {
    "id": "KJB5zLoBae-P"
   },
   "source": [
    "Step 1: Listen to user commands (I know voice commands are not \n",
    "necessary, but I still wanted to give it a try)\n",
    "[source](https://sweetcode.io/how-build-digital-virtual-assistant-python/)"
   ]
  },
  {
   "cell_type": "code",
   "execution_count": 1,
   "metadata": {
    "colab": {
     "base_uri": "https://localhost:8080/"
    },
    "id": "vLHDlfLwaePK",
    "outputId": "c1f414a0-42c6-43a2-b216-77d61c2b2190",
    "scrolled": true
   },
   "outputs": [
    {
     "name": "stderr",
     "output_type": "stream",
     "text": [
      "WARNING: You are using pip version 21.1.2; however, version 21.1.3 is available.\n",
      "You should consider upgrading via the 'c:\\users\\duygu\\miniconda3\\python.exe -m pip install --upgrade pip' command.\n"
     ]
    },
    {
     "name": "stdout",
     "output_type": "stream",
     "text": [
      "Requirement already satisfied: gtts in c:\\users\\duygu\\miniconda3\\lib\\site-packages (2.2.2)\n",
      "Requirement already satisfied: requests in c:\\users\\duygu\\miniconda3\\lib\\site-packages (from gtts) (2.25.1)\n",
      "Requirement already satisfied: click in c:\\users\\duygu\\miniconda3\\lib\\site-packages (from gtts) (8.0.1)\n",
      "Requirement already satisfied: six in c:\\users\\duygu\\miniconda3\\lib\\site-packages (from gtts) (1.15.0)\n",
      "Requirement already satisfied: colorama in c:\\users\\duygu\\miniconda3\\lib\\site-packages (from click->gtts) (0.4.4)\n",
      "Requirement already satisfied: urllib3<1.27,>=1.21.1 in c:\\users\\duygu\\miniconda3\\lib\\site-packages (from requests->gtts) (1.25.11)\n",
      "Requirement already satisfied: chardet<5,>=3.0.2 in c:\\users\\duygu\\miniconda3\\lib\\site-packages (from requests->gtts) (3.0.4)\n",
      "Requirement already satisfied: idna<3,>=2.5 in c:\\users\\duygu\\miniconda3\\lib\\site-packages (from requests->gtts) (2.10)\n",
      "Requirement already satisfied: certifi>=2017.4.17 in c:\\users\\duygu\\miniconda3\\lib\\site-packages (from requests->gtts) (2021.5.30)\n",
      "Requirement already satisfied: flair in c:\\users\\duygu\\miniconda3\\lib\\site-packages (0.8.0.post1)\n",
      "Requirement already satisfied: numpy<1.20.0 in c:\\users\\duygu\\miniconda3\\lib\\site-packages (from flair) (1.19.5)\n",
      "Requirement already satisfied: gdown==3.12.2 in c:\\users\\duygu\\miniconda3\\lib\\site-packages (from flair) (3.12.2)\n",
      "Requirement already satisfied: torch<=1.7.1,>=1.5.0 in c:\\users\\duygu\\miniconda3\\lib\\site-packages (from flair) (1.7.1)\n",
      "Requirement already satisfied: huggingface-hub in c:\\users\\duygu\\miniconda3\\lib\\site-packages (from flair) (0.0.8)\n",
      "Requirement already satisfied: mpld3==0.3 in c:\\users\\duygu\\miniconda3\\lib\\site-packages (from flair) (0.3)\n",
      "Requirement already satisfied: gensim<=3.8.3,>=3.4.0 in c:\\users\\duygu\\miniconda3\\lib\\site-packages (from flair) (3.8.3)\n",
      "Requirement already satisfied: sentencepiece==0.1.95 in c:\\users\\duygu\\miniconda3\\lib\\site-packages (from flair) (0.1.95)\n",
      "Requirement already satisfied: hyperopt>=0.1.1 in c:\\users\\duygu\\miniconda3\\lib\\site-packages (from flair) (0.2.5)\n",
      "Requirement already satisfied: regex in c:\\users\\duygu\\miniconda3\\lib\\site-packages (from flair) (2021.4.4)\n",
      "Requirement already satisfied: langdetect in c:\\users\\duygu\\miniconda3\\lib\\site-packages (from flair) (1.0.9)\n",
      "Requirement already satisfied: scikit-learn>=0.21.3 in c:\\users\\duygu\\miniconda3\\lib\\site-packages (from flair) (0.24.2)\n",
      "Requirement already satisfied: deprecated>=1.2.4 in c:\\users\\duygu\\miniconda3\\lib\\site-packages (from flair) (1.2.12)\n",
      "Requirement already satisfied: segtok>=1.5.7 in c:\\users\\duygu\\miniconda3\\lib\\site-packages (from flair) (1.5.10)\n",
      "Requirement already satisfied: konoha<5.0.0,>=4.0.0 in c:\\users\\duygu\\miniconda3\\lib\\site-packages (from flair) (4.6.5)\n",
      "Requirement already satisfied: tabulate in c:\\users\\duygu\\miniconda3\\lib\\site-packages (from flair) (0.8.9)\n",
      "Requirement already satisfied: janome in c:\\users\\duygu\\miniconda3\\lib\\site-packages (from flair) (0.4.1)\n",
      "Requirement already satisfied: transformers>=4.0.0 in c:\\users\\duygu\\miniconda3\\lib\\site-packages (from flair) (4.6.1)\n",
      "Requirement already satisfied: python-dateutil>=2.6.1 in c:\\users\\duygu\\miniconda3\\lib\\site-packages (from flair) (2.8.1)\n",
      "Requirement already satisfied: lxml in c:\\users\\duygu\\miniconda3\\lib\\site-packages (from flair) (4.6.3)\n",
      "Requirement already satisfied: sqlitedict>=1.6.0 in c:\\users\\duygu\\miniconda3\\lib\\site-packages (from flair) (1.7.0)\n",
      "Requirement already satisfied: ftfy in c:\\users\\duygu\\miniconda3\\lib\\site-packages (from flair) (6.0.3)\n",
      "Requirement already satisfied: tqdm>=4.26.0 in c:\\users\\duygu\\miniconda3\\lib\\site-packages (from flair) (4.54.1)\n",
      "Requirement already satisfied: matplotlib>=2.2.3 in c:\\users\\duygu\\miniconda3\\lib\\site-packages (from flair) (3.4.2)\n",
      "Requirement already satisfied: bpemb>=0.3.2 in c:\\users\\duygu\\miniconda3\\lib\\site-packages (from flair) (0.3.3)\n",
      "Requirement already satisfied: requests[socks] in c:\\users\\duygu\\miniconda3\\lib\\site-packages (from gdown==3.12.2->flair) (2.25.1)\n",
      "Requirement already satisfied: six in c:\\users\\duygu\\miniconda3\\lib\\site-packages (from gdown==3.12.2->flair) (1.15.0)\n",
      "Requirement already satisfied: filelock in c:\\users\\duygu\\miniconda3\\lib\\site-packages (from gdown==3.12.2->flair) (3.0.12)\n",
      "Requirement already satisfied: wrapt<2,>=1.10 in c:\\users\\duygu\\miniconda3\\lib\\site-packages (from deprecated>=1.2.4->flair) (1.12.1)\n",
      "Requirement already satisfied: smart-open>=1.8.1 in c:\\users\\duygu\\miniconda3\\lib\\site-packages (from gensim<=3.8.3,>=3.4.0->flair) (5.1.0)\n",
      "Requirement already satisfied: scipy>=0.18.1 in c:\\users\\duygu\\miniconda3\\lib\\site-packages (from gensim<=3.8.3,>=3.4.0->flair) (1.6.3)\n",
      "Requirement already satisfied: future in c:\\users\\duygu\\miniconda3\\lib\\site-packages (from hyperopt>=0.1.1->flair) (0.18.2)\n",
      "Requirement already satisfied: cloudpickle in c:\\users\\duygu\\miniconda3\\lib\\site-packages (from hyperopt>=0.1.1->flair) (1.6.0)\n",
      "Requirement already satisfied: networkx>=2.2 in c:\\users\\duygu\\miniconda3\\lib\\site-packages (from hyperopt>=0.1.1->flair) (2.5.1)\n",
      "Requirement already satisfied: overrides<4.0.0,>=3.0.0 in c:\\users\\duygu\\miniconda3\\lib\\site-packages (from konoha<5.0.0,>=4.0.0->flair) (3.1.0)\n",
      "Requirement already satisfied: importlib-metadata<4.0.0,>=3.7.0 in c:\\users\\duygu\\miniconda3\\lib\\site-packages (from konoha<5.0.0,>=4.0.0->flair) (3.10.0)\n",
      "Requirement already satisfied: zipp>=0.5 in c:\\users\\duygu\\miniconda3\\lib\\site-packages (from importlib-metadata<4.0.0,>=3.7.0->konoha<5.0.0,>=4.0.0->flair) (3.4.1)\n",
      "Requirement already satisfied: pillow>=6.2.0 in c:\\users\\duygu\\miniconda3\\lib\\site-packages (from matplotlib>=2.2.3->flair) (8.2.0)\n",
      "Requirement already satisfied: pyparsing>=2.2.1 in c:\\users\\duygu\\miniconda3\\lib\\site-packages (from matplotlib>=2.2.3->flair) (2.4.7)\n",
      "Requirement already satisfied: kiwisolver>=1.0.1 in c:\\users\\duygu\\miniconda3\\lib\\site-packages (from matplotlib>=2.2.3->flair) (1.3.1)\n",
      "Requirement already satisfied: cycler>=0.10 in c:\\users\\duygu\\miniconda3\\lib\\site-packages (from matplotlib>=2.2.3->flair) (0.10.0)\n",
      "Requirement already satisfied: decorator<5,>=4.3 in c:\\users\\duygu\\miniconda3\\lib\\site-packages (from networkx>=2.2->hyperopt>=0.1.1->flair) (4.4.2)\n",
      "Requirement already satisfied: certifi>=2017.4.17 in c:\\users\\duygu\\miniconda3\\lib\\site-packages (from requests[socks]->gdown==3.12.2->flair) (2021.5.30)\n",
      "Requirement already satisfied: chardet<5,>=3.0.2 in c:\\users\\duygu\\miniconda3\\lib\\site-packages (from requests[socks]->gdown==3.12.2->flair) (3.0.4)\n",
      "Requirement already satisfied: idna<3,>=2.5 in c:\\users\\duygu\\miniconda3\\lib\\site-packages (from requests[socks]->gdown==3.12.2->flair) (2.10)\n",
      "Requirement already satisfied: urllib3<1.27,>=1.21.1 in c:\\users\\duygu\\miniconda3\\lib\\site-packages (from requests[socks]->gdown==3.12.2->flair) (1.25.11)\n",
      "Requirement already satisfied: threadpoolctl>=2.0.0 in c:\\users\\duygu\\miniconda3\\lib\\site-packages (from scikit-learn>=0.21.3->flair) (2.1.0)\n",
      "Requirement already satisfied: joblib>=0.11 in c:\\users\\duygu\\miniconda3\\lib\\site-packages (from scikit-learn>=0.21.3->flair) (1.0.1)\n",
      "Requirement already satisfied: typing-extensions in c:\\users\\duygu\\miniconda3\\lib\\site-packages (from torch<=1.7.1,>=1.5.0->flair) (3.10.0.0)\n",
      "Requirement already satisfied: tokenizers<0.11,>=0.10.1 in c:\\users\\duygu\\miniconda3\\lib\\site-packages (from transformers>=4.0.0->flair) (0.10.3)\n",
      "Requirement already satisfied: packaging in c:\\users\\duygu\\miniconda3\\lib\\site-packages (from transformers>=4.0.0->flair) (20.9)\n",
      "Requirement already satisfied: sacremoses in c:\\users\\duygu\\miniconda3\\lib\\site-packages (from transformers>=4.0.0->flair) (0.0.45)\n",
      "Requirement already satisfied: wcwidth in c:\\users\\duygu\\miniconda3\\lib\\site-packages (from ftfy->flair) (0.2.5)\n",
      "Requirement already satisfied: PySocks!=1.5.7,>=1.5.6 in c:\\users\\duygu\\miniconda3\\lib\\site-packages (from requests[socks]->gdown==3.12.2->flair) (1.7.1)\n",
      "Requirement already satisfied: click in c:\\users\\duygu\\miniconda3\\lib\\site-packages (from sacremoses->transformers>=4.0.0->flair) (8.0.1)\n",
      "Requirement already satisfied: colorama in c:\\users\\duygu\\miniconda3\\lib\\site-packages (from click->sacremoses->transformers>=4.0.0->flair) (0.4.4)\n"
     ]
    },
    {
     "name": "stderr",
     "output_type": "stream",
     "text": [
      "WARNING: You are using pip version 21.1.2; however, version 21.1.3 is available.\n",
      "You should consider upgrading via the 'c:\\users\\duygu\\miniconda3\\python.exe -m pip install --upgrade pip' command.\n"
     ]
    }
   ],
   "source": [
    "import re\n",
    "import speech_recognition as sr \n",
    "import pyaudio\n",
    "from time import ctime\n",
    "import time\n",
    "import os\n",
    "! pip install gtts\n",
    "from gtts import gTTS\n",
    "import requests, json\n",
    "!pip install flair\n",
    "from flair.data import Sentence\n",
    "from flair.models import SequenceTagger"
   ]
  },
  {
   "cell_type": "code",
   "execution_count": 2,
   "metadata": {
    "id": "-0HhWOI7bkxE"
   },
   "outputs": [],
   "source": [
    "def listen():\n",
    "   \n",
    "    r = sr.Recognizer()\n",
    "    with sr.Microphone() as source:\n",
    "        print(\"I am listening...\")\n",
    "        audio = r.listen(source)\n",
    "    data = \"\"\n",
    "    try:\n",
    "        data = r.recognize_google(audio)\n",
    "        print(\"You said: \" + data)\n",
    "    except sr.UnknownValueError:\n",
    "        print(\"I don't understand. Could you repeat that?\")\n",
    "    except sr.RequestError as e:\n",
    "        print(\"Sorry, I don't understand.; {0}\".format(e))\n",
    "    return data"
   ]
  },
  {
   "cell_type": "markdown",
   "metadata": {},
   "source": [
    "Framework used for named entity recognition: https://github.com/flairNLP/flair"
   ]
  },
  {
   "cell_type": "code",
   "execution_count": 3,
   "metadata": {},
   "outputs": [],
   "source": [
    "def Tagger(data):\n",
    "    \"\"\"Performs entity recognition using the package Flair\"\"\"\n",
    "    sentence = Sentence(data)\n",
    "    tagger = SequenceTagger.load('ner-ontonotes-fast')\n",
    "    tagger.predict(sentence)\n",
    "    tag_dict = sentence.to_dict(tag_type = 'ner')\n",
    "    tag_dict_entities = tag_dict['entities']\n",
    "    entities_list = []\n",
    "    #now we need to accesss each dictionary in the list tag_dict_entities, and retrieve the \n",
    "    #key 'labels'. \n",
    "    for i in range(len(tag_dict_entities)):\n",
    "        entities_list.append(tag_dict_entities[i])\n",
    "    \n",
    "    for j in range(len(entities_list)):\n",
    "        dic = entities_list[j]\n",
    "        del dic['start_pos']\n",
    "        del dic['end_pos']\n",
    "        \n",
    "    return entities_list\n",
    "\n",
    "#this package does not tag stuff like afternoon :)))))"
   ]
  },
  {
   "cell_type": "markdown",
   "metadata": {},
   "source": [
    "What Tagger currently returns is sth. like this: \n",
    "[{'text': 'next week', 'labels': [DATE (0.7448)]},\n",
    " {'text': 'France', 'labels': [GPE (0.9999)]}]\n",
    " \n",
    "Let's do this with regex\n",
    " "
   ]
  },
  {
   "cell_type": "markdown",
   "metadata": {},
   "source": [
    "A problem with the function below is that it will definitely overgenerate. The sequence tagger used inside Tagger() can tag 18 classes, whereas we are only interested in the following classes:\n",
    "\n",
    "* DATE: date value\n",
    "* GPE: geo-political entity \n",
    "* LOC: location name\n",
    "* TIME: time value\n",
    "\n",
    "Actually, we only need TIME at this point. We can try to get location-based weather input and then we can use GPE & LOC too. We will need to pull some tricks to use DATE too but I don't really think that is necessary. \n",
    "\n",
    "We can modify Tagger() such that it only returns sentences w/ time & location information and throws some sort of error message otherwise. "
   ]
  },
  {
   "cell_type": "code",
   "execution_count": 4,
   "metadata": {},
   "outputs": [],
   "source": [
    "def ReturnDic():\n",
    "    \"\"\"Takes voice input\"\"\"\n",
    "    time.sleep(2)\n",
    "    listening = True\n",
    "    while listening == True:\n",
    "        data = listen()\n",
    "        listening = Tagger(data)\n",
    "    return listening"
   ]
  },
  {
   "cell_type": "code",
   "execution_count": 5,
   "metadata": {},
   "outputs": [],
   "source": [
    "def Purge ():\n",
    "    \"\"\"Labels relevant info as value 1, and non-relevant as value 0\"\"\"\n",
    "    list = ReturnDic()\n",
    "    pattern_date = re.compile(\"DATE\")\n",
    "    pattern_time = re.compile(\"TIME\")\n",
    "    pattern_gpe = re.compile(\"GPE\")\n",
    "    pattern_loc = re.compile(\"LOC\")\n",
    "    for i in range(len(list)):\n",
    "        dic = list[i]\n",
    "        labels_string = str(dic['labels'])\n",
    "        matches_date = re.findall(pattern_date, labels_string)\n",
    "        matches_time = re.findall(pattern_time, labels_string)\n",
    "        matches_gpe = re.findall(pattern_gpe, labels_string)\n",
    "        matches_loc = re.findall(pattern_loc, labels_string)\n",
    "        if matches_date == [] and matches_time == [] and matches_gpe == [] and matches_loc == []:\n",
    "            dic[\"value\"] = 0\n",
    "        elif matches_date == [] and matches_time == [] and matches_gpe == []:\n",
    "            dic[\"value\"] = 1 #location tag\n",
    "        elif matches_date == [] and matches_time == [] and matches_loc == []:\n",
    "            dic[\"value\"] = 2 #GPE tag\n",
    "        elif  matches_date == [] and matches_gpe == [] and matches_loc == []:\n",
    "            dic[\"value\"] = 3 #time tag\n",
    "        else:\n",
    "            dic[\"value\"] = 4 #date tag\n",
    "    return list"
   ]
  },
  {
   "cell_type": "code",
   "execution_count": 22,
   "metadata": {},
   "outputs": [
    {
     "name": "stdout",
     "output_type": "stream",
     "text": [
      "I am listening...\n",
      "You said: weather tomorrow 12 p.m.\n",
      "2021-06-30 18:05:39,117 --------------------------------------------------------------------------------\n",
      "2021-06-30 18:05:39,135 The model key 'ner-ontonotes-fast' now maps to 'https://huggingface.co/flair/ner-english-ontonotes-fast' on the HuggingFace ModelHub\n",
      "2021-06-30 18:05:39,138  - The most current version of the model is automatically downloaded from there.\n",
      "2021-06-30 18:05:39,138  - (you can alternatively manually download the original model at https://nlp.informatik.hu-berlin.de/resources/models/ner-ontonotes-fast/en-ner-ontonotes-fast-v0.4.pt)\n",
      "2021-06-30 18:05:39,139 --------------------------------------------------------------------------------\n",
      "2021-06-30 18:05:40,087 loading file C:\\Users\\duygu\\.flair\\models\\ner-english-ontonotes-fast\\0d55dd3b912da9cf26e003035a0c269a0e9ab222f0be1e48a3bbba3a58c0fed0.c9907cd5fde3ce84b71a4172e7ca03841cd81ab71d13eb68aa08b259f57c00b6\n"
     ]
    }
   ],
   "source": [
    "x = Purge()"
   ]
  },
  {
   "cell_type": "code",
   "execution_count": 23,
   "metadata": {},
   "outputs": [
    {
     "data": {
      "text/plain": [
       "[{'text': 'tomorrow', 'labels': [DATE (0.9431)], 'value': 4},\n",
       " {'text': '12 p.m', 'labels': [TIME (0.9365)], 'value': 3}]"
      ]
     },
     "execution_count": 23,
     "metadata": {},
     "output_type": "execute_result"
    }
   ],
   "source": [
    "x"
   ]
  },
  {
   "cell_type": "markdown",
   "metadata": {
    "id": "aYd-oqzRmnbD"
   },
   "source": [
    "some questions:\n",
    "*   do we need multiple locations? should we let the user choose their location? (if so, find out how)\n",
    "\n",
    "This will be difficult because the URL we are reading specifically fetches the weather for istanbul. I do not know how to go into the website AND change the location based on the users location. I think it might be a bit too much work, and we might need to read the website differently. We can get around to it if we have time. - D.\n",
    "\n"
   ]
  },
  {
   "cell_type": "markdown",
   "metadata": {
    "id": "-Uver5Blh0Wy"
   },
   "source": [
    "Step 2: Read into the Weather Channel website and get Today's Forecast and Daily Forecast. "
   ]
  },
  {
   "cell_type": "code",
   "execution_count": 7,
   "metadata": {
    "colab": {
     "base_uri": "https://localhost:8080/",
     "height": 674
    },
    "id": "BN8SWNtQnIGB",
    "outputId": "361b7379-0ab3-4915-9040-b8d73dc45994"
   },
   "outputs": [],
   "source": [
    "#elif's version of duygu's code -- to find out whether we can switch btwn F/C\n",
    "#the code below only prints in C but doesn't really matter since it only shows weather for Istanbul\n",
    "\n",
    "import urllib.request \n",
    "\n",
    "def urlopen():\n",
    "\n",
    "    class AppURLopener(urllib.request.FancyURLopener): \n",
    "        version = \"Mozilla/5.0\"\n",
    "\n",
    "    opener = AppURLopener()\n",
    "    response = opener.open('https://weather.com/tr-TR/weather/today/l/33d1e415eb66f3e1ab35c3add45fccf4512715d329edbd91c806a6957e123b49')\n",
    "    file = response.read().decode('utf-8') \n",
    "\n",
    "    pattern = re.compile(\"([0-9]+)°\") \n",
    "\n",
    "    matches = re.findall(pattern, file) \n",
    "\n",
    "    return matches #returns in celsius"
   ]
  },
  {
   "cell_type": "markdown",
   "metadata": {
    "id": "WG0kFotEoWtq"
   },
   "source": [
    "matches is a list of numbers, and maybe indexing them will be easier than writing separate RegEx's. we can create a dictionary and then use that dictionary in the 3rd step.\n",
    "\n",
    "this is a very dumb way and we're not doing much work w/ regex but it works, so i think we'll be fine. \n",
    "\n",
    "beware: I have tweaked with CleanList because of the website. if it does not work for you in the dictionary function below make while a<2 and while b<=10. "
   ]
  },
  {
   "cell_type": "code",
   "execution_count": 9,
   "metadata": {
    "colab": {
     "base_uri": "https://localhost:8080/"
    },
    "id": "z42mLNaNrC2p",
    "outputId": "38f83163-7824-45e4-97f3-2f4f96f2bf53"
   },
   "outputs": [],
   "source": [
    "def CleanList():\n",
    "    \"\"\"Returns the relevant numbers from the scraped data\"\"\" \n",
    "\n",
    "    matches = urlopen()\n",
    "    a=0\n",
    "    while a<1:\n",
    "        matches.pop(1)\n",
    "        a+=1\n",
    "\n",
    "    b=0\n",
    "    while b<=8:\n",
    "        matches.pop(5)\n",
    "        b+=1\n",
    "            \n",
    "    return matches\n"
   ]
  },
  {
   "cell_type": "code",
   "execution_count": 10,
   "metadata": {},
   "outputs": [],
   "source": [
    "#we are turning them to int's. for some reason this did not work when I put it inside CleanList\n",
    "def turntoint():\n",
    "    \n",
    "    list = Cleanlist()\n",
    "    integer_map = map(int, list) \n",
    "    matches_int = list(integer_map)\n",
    "\n",
    "    return matches_int"
   ]
  },
  {
   "cell_type": "markdown",
   "metadata": {
    "id": "o4skweZEyEhf"
   },
   "source": [
    "open the weather channel and look side-by-side.\n",
    "\n",
    "[0-4] -> 0. current weather / 1. morning / 2. afternoon / 3. evening / 4. overnight \n",
    "\n",
    "[5-12] -> skip down to daily forecast in the website, which gives us the weather for the next four days. I kept the values for both day & night, but of course we can purge it further. \n",
    "\n",
    "now we need to match these with the list indeces. "
   ]
  },
  {
   "cell_type": "code",
   "execution_count": 11,
   "metadata": {
    "colab": {
     "base_uri": "https://localhost:8080/"
    },
    "id": "VQR--euNtNDT",
    "outputId": "0f03f651-1fc7-429e-eb81-ae6042bd2062"
   },
   "outputs": [],
   "source": [
    "#maybe we should get rid of everything that comes after day_after_n. \n",
    "def CreateDictionary():\n",
    "    \"\"\"Creating a dictionary from the numbers obtained from the weather channel and times of the day\"\"\"\n",
    "    \n",
    "    labels = [\"cur_weather\", \"morning\", \"afternoon\", \"evening\", \"overnight\", \"tomorrow\", \"tomorrow_night\", \"day_after\", \"day_after_n\", \"after_after\", \"after_after_n\", \"idk\", \"idk_n\"]\n",
    "    matches = turntoint()\n",
    "    weather = {}\n",
    "\n",
    "    for k in range(len(labels)):\n",
    "        weather[labels[k]] = matches[k]\n",
    "        \n",
    "    return weather"
   ]
  },
  {
   "cell_type": "markdown",
   "metadata": {
    "id": "C9gSny9uxAAP"
   },
   "source": [
    "Some problems with this: we are taking everything but we will possibly only use a limited part of it when we get input from the user, as they will ask what to wear for a specific time of the day/week. It would be better to have separate RegEx's that read the relevant parts of the website based on user input, but I couldn't think of/find a way to do that. "
   ]
  },
  {
   "cell_type": "markdown",
   "metadata": {},
   "source": [
    "[{'text': 'next week', 'labels': [DATE (0.7448)], 'value': 1},\n",
    " {'text': 'France', 'labels': [GPE (0.9999)]}, 'value': 1]\n",
    " \n",
    " 1: location\n",
    " 2: GPE\n",
    " 3: time\n",
    " 4: date"
   ]
  },
  {
   "cell_type": "code",
   "execution_count": 41,
   "metadata": {},
   "outputs": [
    {
     "name": "stdout",
     "output_type": "stream",
     "text": [
      "I am listening...\n",
      "You said: weather next week in France\n",
      "2021-06-14 17:26:24,265 --------------------------------------------------------------------------------\n",
      "2021-06-14 17:26:24,265 The model key 'ner-ontonotes-fast' now maps to 'https://huggingface.co/flair/ner-english-ontonotes-fast' on the HuggingFace ModelHub\n",
      "2021-06-14 17:26:24,265  - The most current version of the model is automatically downloaded from there.\n",
      "2021-06-14 17:26:24,265  - (you can alternatively manually download the original model at https://nlp.informatik.hu-berlin.de/resources/models/ner-ontonotes-fast/en-ner-ontonotes-fast-v0.4.pt)\n",
      "2021-06-14 17:26:24,273 --------------------------------------------------------------------------------\n",
      "2021-06-14 17:26:25,038 loading file C:\\Users\\duygu\\.flair\\models\\ner-english-ontonotes-fast\\0d55dd3b912da9cf26e003035a0c269a0e9ab222f0be1e48a3bbba3a58c0fed0.c9907cd5fde3ce84b71a4172e7ca03841cd81ab71d13eb68aa08b259f57c00b6\n"
     ]
    },
    {
     "ename": "NameError",
     "evalue": "name 'GPE' is not defined",
     "output_type": "error",
     "traceback": [
      "\u001b[1;31m---------------------------------------------------------------------------\u001b[0m",
      "\u001b[1;31mNameError\u001b[0m                                 Traceback (most recent call last)",
      "\u001b[1;32m<ipython-input-41-c79e8de31463>\u001b[0m in \u001b[0;36m<module>\u001b[1;34m\u001b[0m\n\u001b[0;32m      5\u001b[0m     \u001b[1;32mreturn\u001b[0m \u001b[0mparse\u001b[0m\u001b[1;33m\u001b[0m\u001b[1;33m\u001b[0m\u001b[0m\n\u001b[0;32m      6\u001b[0m \u001b[1;33m\u001b[0m\u001b[0m\n\u001b[1;32m----> 7\u001b[1;33m \u001b[0mGenerateOutput\u001b[0m\u001b[1;33m(\u001b[0m\u001b[1;33m)\u001b[0m\u001b[1;33m\u001b[0m\u001b[1;33m\u001b[0m\u001b[0m\n\u001b[0m\u001b[0;32m      8\u001b[0m \u001b[1;31m#if we write this properly we are finished. run all cells above this and nothing below for now.\u001b[0m\u001b[1;33m\u001b[0m\u001b[1;33m\u001b[0m\u001b[1;33m\u001b[0m\u001b[0m\n",
      "\u001b[1;32m<ipython-input-41-c79e8de31463>\u001b[0m in \u001b[0;36mGenerateOutput\u001b[1;34m()\u001b[0m\n\u001b[0;32m      1\u001b[0m \u001b[1;32mdef\u001b[0m \u001b[0mGenerateOutput\u001b[0m\u001b[1;33m(\u001b[0m\u001b[1;33m)\u001b[0m\u001b[1;33m:\u001b[0m\u001b[1;33m\u001b[0m\u001b[1;33m\u001b[0m\u001b[0m\n\u001b[0;32m      2\u001b[0m     \u001b[0mparse\u001b[0m \u001b[1;33m=\u001b[0m \u001b[0mNoName\u001b[0m\u001b[1;33m(\u001b[0m\u001b[1;33m)\u001b[0m\u001b[1;33m\u001b[0m\u001b[1;33m\u001b[0m\u001b[0m\n\u001b[1;32m----> 3\u001b[1;33m     \u001b[1;32mif\u001b[0m \u001b[0mparse\u001b[0m\u001b[1;33m[\u001b[0m\u001b[1;34m'labels'\u001b[0m\u001b[1;33m]\u001b[0m \u001b[1;33m==\u001b[0m \u001b[1;33m[\u001b[0m\u001b[0mGPE\u001b[0m\u001b[1;33m]\u001b[0m\u001b[1;33m:\u001b[0m\u001b[1;33m\u001b[0m\u001b[1;33m\u001b[0m\u001b[0m\n\u001b[0m\u001b[0;32m      4\u001b[0m         \u001b[0mprint\u001b[0m\u001b[1;33m(\u001b[0m\u001b[0mparse\u001b[0m\u001b[1;33m)\u001b[0m\u001b[1;33m\u001b[0m\u001b[1;33m\u001b[0m\u001b[0m\n\u001b[0;32m      5\u001b[0m     \u001b[1;32mreturn\u001b[0m \u001b[0mparse\u001b[0m\u001b[1;33m\u001b[0m\u001b[1;33m\u001b[0m\u001b[0m\n",
      "\u001b[1;31mNameError\u001b[0m: name 'GPE' is not defined"
     ]
    }
   ],
   "source": [
    "def GenerateOutput():\n",
    "    \n",
    "    list = Purge()\n",
    "    weather_dictionary = CreateDictionary()\n",
    "   \n",
    "    time_pattern_1 = re.compile(\"at [(0-9:) (ampm)]+\")\n",
    "    time_date_pattern = re.compile(\"([a-z]+) on (\\d+)[.//-](\\d+)[//.-](\\d+) at (\\d+):?(\\d+)?(pm)?\\s?(am)?\")\n",
    "    time_date_pattern_1 = re.compile(\"([a-z]+) on (\\w+) (\\d+) (\\d+) at (\\d+)(pm)?:?(\\d+)?\")\n",
    "    \n",
    "    \n",
    "    matches_time_date_pattern = \n",
    "    matches_time_date_pattern_1 = \n",
    "    \n",
    "    for i in range(len(list)):\n",
    "        dic = list[i]\n",
    "        if 'value' in dic = 0:\n",
    "            #raise error?\n",
    "        elif 'value' in dic = 1: #location\n",
    "            #we need to use api to fill this\n",
    "        elif 'value' in dic = 2: #GPE\n",
    "            #we need to use api to fill this\n",
    "        elif 'value' in dic = 3: #time\n",
    "            matches_time_pattern_1 = re.findall(time_pattern_1, dic['text'])\n",
    "            int_matches = int(matches_time_pattern_1[0])\n",
    "            if matches_time_pattern_1[1] == 'am':\n",
    "                if 6<=int_matches<12:\n",
    "                    weather = weather_dictionary['morning']\n",
    "                else: \n",
    "                    #this is an odd time period, just print out something accordingly\n",
    "            elif matches_time_pattern == 'pm':\n",
    "                if 1<=int_matches<\n",
    "        else: #date\n",
    "            #we need to use api for this too.     "
   ]
  }
 ],
 "metadata": {
  "colab": {
   "collapsed_sections": [],
   "name": "484_project_code.ipynb",
   "provenance": []
  },
  "kernelspec": {
   "display_name": "Python 3",
   "language": "python",
   "name": "python3"
  },
  "language_info": {
   "codemirror_mode": {
    "name": "ipython",
    "version": 3
   },
   "file_extension": ".py",
   "mimetype": "text/x-python",
   "name": "python",
   "nbconvert_exporter": "python",
   "pygments_lexer": "ipython3",
   "version": "3.9.1"
  }
 },
 "nbformat": 4,
 "nbformat_minor": 1
}
